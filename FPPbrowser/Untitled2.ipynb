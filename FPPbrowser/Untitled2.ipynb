{
 "cells": [
  {
   "cell_type": "code",
   "execution_count": 85,
   "metadata": {
    "collapsed": true
   },
   "outputs": [],
   "source": [
    "import vespa\n",
    "starpop = vespa.MultipleStarPopulation(1)\n",
    "data_options = []\n",
    "for each_key in starpop.stars.keys():\n",
    "\tif np.isfinite(getattr(starpop.stars,each_key)).any():\n",
    "\t\tdata_options.append(each_key)"
   ]
  },
  {
   "cell_type": "code",
   "execution_count": 86,
   "metadata": {
    "collapsed": false
   },
   "outputs": [
    {
     "data": {
      "text/plain": [
       "['H_mag',\n",
       " 'H_mag_A',\n",
       " 'J_mag',\n",
       " 'J_mag_A',\n",
       " 'K_mag',\n",
       " 'K_mag_A',\n",
       " 'Kepler_mag',\n",
       " 'Kepler_mag_A',\n",
       " 'Teff_A',\n",
       " 'age_A',\n",
       " 'g_mag',\n",
       " 'g_mag_A',\n",
       " 'i_mag',\n",
       " 'i_mag_A',\n",
       " 'logL_A',\n",
       " 'logg_A',\n",
       " 'mass_A',\n",
       " 'r_mag',\n",
       " 'r_mag_A',\n",
       " 'radius_A',\n",
       " 'z_mag',\n",
       " 'z_mag_A',\n",
       " 'H_mag_B',\n",
       " 'J_mag_B',\n",
       " 'K_mag_B',\n",
       " 'Kepler_mag_B',\n",
       " 'Teff_B',\n",
       " 'age_B',\n",
       " 'g_mag_B',\n",
       " 'i_mag_B',\n",
       " 'logL_B',\n",
       " 'logg_B',\n",
       " 'mass_B',\n",
       " 'r_mag_B',\n",
       " 'radius_B',\n",
       " 'z_mag_B',\n",
       " 'H_mag_C',\n",
       " 'J_mag_C',\n",
       " 'K_mag_C',\n",
       " 'Kepler_mag_C',\n",
       " 'Teff_C',\n",
       " 'age_C',\n",
       " 'g_mag_C',\n",
       " 'i_mag_C',\n",
       " 'logL_C',\n",
       " 'logg_C',\n",
       " 'mass_C',\n",
       " 'r_mag_C',\n",
       " 'radius_C',\n",
       " 'z_mag_C',\n",
       " 'distance',\n",
       " 'distmod']"
      ]
     },
     "execution_count": 86,
     "metadata": {},
     "output_type": "execute_result"
    }
   ],
   "source": [
    "data_options"
   ]
  },
  {
   "cell_type": "code",
   "execution_count": 87,
   "metadata": {
    "collapsed": true
   },
   "outputs": [],
   "source": [
    "import h5py"
   ]
  },
  {
   "cell_type": "code",
   "execution_count": 88,
   "metadata": {
    "collapsed": true
   },
   "outputs": [],
   "source": [
    "import matplotlib.pyplot as plt"
   ]
  },
  {
   "cell_type": "code",
   "execution_count": 89,
   "metadata": {
    "collapsed": false
   },
   "outputs": [
    {
     "data": {
      "text/plain": [
       "<matplotlib.figure.Figure at 0x110a668d0>"
      ]
     },
     "metadata": {},
     "output_type": "display_data"
    }
   ],
   "source": [
    "fig = plt.figure()"
   ]
  },
  {
   "cell_type": "code",
   "execution_count": 91,
   "metadata": {
    "collapsed": false
   },
   "outputs": [],
   "source": [
    "ax = fig.add_subplot(111)"
   ]
  },
  {
   "cell_type": "code",
   "execution_count": 92,
   "metadata": {
    "collapsed": false
   },
   "outputs": [
    {
     "data": {
      "text/plain": [
       "<matplotlib.text.Text at 0x115229210>"
      ]
     },
     "execution_count": 92,
     "metadata": {},
     "output_type": "execute_result"
    }
   ],
   "source": [
    "ax.set_xlabel('dd')"
   ]
  },
  {
   "cell_type": "code",
   "execution_count": 95,
   "metadata": {
    "collapsed": false
   },
   "outputs": [
    {
     "data": {
      "text/plain": [
       "<matplotlib.text.Text at 0x11a46fdd0>"
      ]
     },
     "execution_count": 95,
     "metadata": {},
     "output_type": "execute_result"
    },
    {
     "data": {
      "image/png": "[encoded data removed]",
      "text/plain": [
       "<matplotlib.figure.Figure at 0x110a50cd0>"
      ]
     },
     "metadata": {},
     "output_type": "display_data"
    }
   ],
   "source": [
    "plt.title(r'$'+'alpha'+'$')"
   ]
  },
  {
   "cell_type": "code",
   "execution_count": null,
   "metadata": {
    "collapsed": true
   },
   "outputs": [],
   "source": []
  }
 ],
 "metadata": {
  "kernelspec": {
   "display_name": "Python 2",
   "language": "python",
   "name": "python2"
  },
  "language_info": {
   "codemirror_mode": {
    "name": "ipython",
    "version": 2
   },
   "file_extension": ".py",
   "mimetype": "text/x-python",
   "name": "python",
   "nbconvert_exporter": "python",
   "pygments_lexer": "ipython2",
   "version": "2.7.9"
  }
 },
 "nbformat": 4,
 "nbformat_minor": 0
}
