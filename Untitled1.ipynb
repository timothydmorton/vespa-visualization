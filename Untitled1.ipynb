{
 "cells": [
  {
   "cell_type": "code",
   "execution_count": 1,
   "metadata": {
    "collapsed": false
   },
   "outputs": [
    {
     "name": "stderr",
     "output_type": "stream",
     "text": [
      "WARNING:root:PyMultiNest not available; only emcee fits will be possible.\n",
      "WARNING:root:progressbar not imported\n"
     ]
    }
   ],
   "source": [
    "import vespa"
   ]
  },
  {
   "cell_type": "code",
   "execution_count": 3,
   "metadata": {
    "collapsed": false
   },
   "outputs": [],
   "source": [
    "import numpy as np\n",
    "import matplotlib\n",
    "import matplotlib.pyplot as plt\n",
    "import vespa\n",
    "from sklearn.datasets import load_iris\n",
    "\n",
    "import mpld3\n",
    "from mpld3 import plugins, utils\n",
    "%matplotlib inline"
   ]
  },
  {
   "cell_type": "code",
   "execution_count": 4,
   "metadata": {
    "collapsed": true
   },
   "outputs": [],
   "source": [
    "starpop = vespa.MultipleStarPopulation(1)"
   ]
  },
  {
   "cell_type": "code",
   "execution_count": 27,
   "metadata": {
    "collapsed": false
   },
   "outputs": [
    {
     "data": {
      "text/plain": [
       "0     13.302103\n",
       "1     13.680830\n",
       "2     13.548272\n",
       "3     14.498729\n",
       "4     14.311199\n",
       "5     13.796261\n",
       "6     13.318252\n",
       "7     13.421498\n",
       "8     14.137699\n",
       "9     14.058371\n",
       "10    14.027981\n",
       "11    14.137681\n",
       "12    13.839776\n",
       "13    14.404686\n",
       "14    14.180678\n",
       "...\n",
       "9985    14.154421\n",
       "9986    13.265747\n",
       "9987    14.286950\n",
       "9988    11.517343\n",
       "9989    13.902777\n",
       "9990    14.077194\n",
       "9991    14.346508\n",
       "9992    14.238344\n",
       "9993    13.728002\n",
       "9994    13.547487\n",
       "9995    14.028293\n",
       "9996    14.423628\n",
       "9997    14.341556\n",
       "9998    14.386320\n",
       "9999    13.410838\n",
       "Name: z_mag, Length: 10000, dtype: float64"
      ]
     },
     "execution_count": 27,
     "metadata": {},
     "output_type": "execute_result"
    }
   ],
   "source": [
    "starpop.stars.z_mag"
   ]
  },
  {
   "cell_type": "code",
   "execution_count": null,
   "metadata": {
    "collapsed": true
   },
   "outputs": [],
   "source": []
  }
 ],
 "metadata": {
  "kernelspec": {
   "display_name": "Python 2",
   "language": "python",
   "name": "python2"
  },
  "language_info": {
   "codemirror_mode": {
    "name": "ipython",
    "version": 2
   },
   "file_extension": ".py",
   "mimetype": "text/x-python",
   "name": "python",
   "nbconvert_exporter": "python",
   "pygments_lexer": "ipython2",
   "version": "2.7.9"
  }
 },
 "nbformat": 4,
 "nbformat_minor": 0
}
